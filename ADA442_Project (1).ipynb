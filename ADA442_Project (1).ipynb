{
 "cells": [
  {
   "cell_type": "markdown",
   "id": "CffxNG0fS3hB",
   "metadata": {
    "id": "CffxNG0fS3hB"
   },
   "source": [
    "# **ADA 442 - FINAL PROJECT**\n",
    "\n",
    "\n",
    "**Student Name & ID**\n",
    "*   Ceren Özdoğan 13606132136\n",
    "*   Murat Kaan Gökyıldız\n",
    "*   Alp Aydın Es\n",
    "*   Orkun Erdoğan 50365570922\n",
    "\n"
   ]
  },
  {
   "cell_type": "markdown",
   "id": "tBDtiC3bUCKq",
   "metadata": {
    "id": "tBDtiC3bUCKq"
   },
   "source": [
    "# **Import Modules & Dependencies**"
   ]
  },
  {
   "cell_type": "code",
   "execution_count": 3,
   "id": "181ce5a3",
   "metadata": {
    "id": "181ce5a3"
   },
   "outputs": [],
   "source": [
    "# Importing dependencies\n",
    "import pandas as pd\n",
    "from matplotlib import pyplot as plt\n",
    "import numpy as np\n",
    "from sklearn.preprocessing import StandardScaler, OneHotEncoder,MinMaxScaler\n",
    "from sklearn.compose import ColumnTransformer\n",
    "from sklearn.preprocessing import OrdinalEncoder, OneHotEncoder, StandardScaler\n",
    "from sklearn.compose import ColumnTransformer\n",
    "from sklearn.metrics import classification_report, recall_score\n",
    "import pickle\n",
    "import warnings\n",
    "warnings.filterwarnings('ignore')"
   ]
  },
  {
   "cell_type": "code",
   "execution_count": 4,
   "id": "Dm16cAfKUb8m",
   "metadata": {
    "id": "Dm16cAfKUb8m"
   },
   "outputs": [],
   "source": [
    "from sklearn.pipeline import make_pipeline, Pipeline\n",
    "from sklearn.model_selection import train_test_split\n",
    "from sklearn.metrics import accuracy_score, precision_score, recall_score, f1_score, confusion_matrix, mean_squared_error, make_scorer, roc_auc_score\n",
    "from sklearn.feature_selection import SelectFromModel"
   ]
  },
  {
   "cell_type": "code",
   "execution_count": 5,
   "id": "PxjdbP84Uhhq",
   "metadata": {
    "id": "PxjdbP84Uhhq"
   },
   "outputs": [],
   "source": [
    "from sklearn.linear_model import LogisticRegression\n",
    "from sklearn.tree import DecisionTreeClassifier\n",
    "from sklearn.ensemble import RandomForestClassifier\n",
    "from sklearn.ensemble import GradientBoostingClassifier\n",
    "from sklearn.model_selection import train_test_split\n",
    "from sklearn.svm import SVC\n",
    "from sklearn.metrics import RocCurveDisplay\n",
    "from sklearn.datasets import load_wine"
   ]
  },
  {
   "cell_type": "code",
   "execution_count": 6,
   "id": "ukXV991UUj9j",
   "metadata": {
    "id": "ukXV991UUj9j"
   },
   "outputs": [],
   "source": [
    "from sklearn.model_selection import StratifiedKFold\n",
    "from sklearn.model_selection import cross_validate\n",
    "from sklearn.model_selection import GridSearchCV"
   ]
  },
  {
   "cell_type": "markdown",
   "id": "nPnwqbhJUxsa",
   "metadata": {
    "id": "nPnwqbhJUxsa"
   },
   "source": [
    "**Loading Dataset**"
   ]
  },
  {
   "cell_type": "code",
   "execution_count": 7,
   "id": "f548e95b",
   "metadata": {
    "id": "f548e95b"
   },
   "outputs": [],
   "source": [
    "column_order = [\"age\", \"job\", \"marital\", \"education\", \"default\", \"housing\", \"loan\",\n",
    "                \"contact\", \"month\", \"day_of_week\", \"duration\", \"campaign\", \"pdays\",\n",
    "                \"previous\", \"poutcome\", \"emp.var.rate\", \"cons.price.idx\",\n",
    "                \"cons.conf.idx\", \"euribor3m\", \"nr.employed\", \"y\"]"
   ]
  },
  {
   "cell_type": "code",
   "execution_count": 8,
   "id": "7873c7dd",
   "metadata": {
    "id": "7873c7dd"
   },
   "outputs": [],
   "source": [
    "data= pd.read_csv(\"bank-additional.csv\", delimiter=\";\")"
   ]
  },
  {
   "cell_type": "code",
   "execution_count": 9,
   "id": "fRiZB-OMVaVH",
   "metadata": {
    "colab": {
     "base_uri": "https://localhost:8080/"
    },
    "id": "fRiZB-OMVaVH",
    "outputId": "24efaea4-5636-4683-98f8-8ade5ae244ae"
   },
   "outputs": [
    {
     "data": {
      "text/plain": [
       "(4119, 21)"
      ]
     },
     "execution_count": 9,
     "metadata": {},
     "output_type": "execute_result"
    }
   ],
   "source": [
    "data.shape"
   ]
  },
  {
   "cell_type": "code",
   "execution_count": 10,
   "id": "680a341e",
   "metadata": {
    "colab": {
     "base_uri": "https://localhost:8080/",
     "height": 236
    },
    "id": "680a341e",
    "outputId": "d9b3c2dc-3b68-43b0-ee29-6b1af3dfe0e1",
    "scrolled": true
   },
   "outputs": [
    {
     "data": {
      "text/html": [
       "<div>\n",
       "<style scoped>\n",
       "    .dataframe tbody tr th:only-of-type {\n",
       "        vertical-align: middle;\n",
       "    }\n",
       "\n",
       "    .dataframe tbody tr th {\n",
       "        vertical-align: top;\n",
       "    }\n",
       "\n",
       "    .dataframe thead th {\n",
       "        text-align: right;\n",
       "    }\n",
       "</style>\n",
       "<table border=\"1\" class=\"dataframe\">\n",
       "  <thead>\n",
       "    <tr style=\"text-align: right;\">\n",
       "      <th></th>\n",
       "      <th>age</th>\n",
       "      <th>job</th>\n",
       "      <th>marital</th>\n",
       "      <th>education</th>\n",
       "      <th>default</th>\n",
       "      <th>housing</th>\n",
       "      <th>loan</th>\n",
       "      <th>contact</th>\n",
       "      <th>month</th>\n",
       "      <th>day_of_week</th>\n",
       "      <th>...</th>\n",
       "      <th>campaign</th>\n",
       "      <th>pdays</th>\n",
       "      <th>previous</th>\n",
       "      <th>poutcome</th>\n",
       "      <th>emp.var.rate</th>\n",
       "      <th>cons.price.idx</th>\n",
       "      <th>cons.conf.idx</th>\n",
       "      <th>euribor3m</th>\n",
       "      <th>nr.employed</th>\n",
       "      <th>y</th>\n",
       "    </tr>\n",
       "  </thead>\n",
       "  <tbody>\n",
       "    <tr>\n",
       "      <th>0</th>\n",
       "      <td>30</td>\n",
       "      <td>blue-collar</td>\n",
       "      <td>married</td>\n",
       "      <td>basic.9y</td>\n",
       "      <td>no</td>\n",
       "      <td>yes</td>\n",
       "      <td>no</td>\n",
       "      <td>cellular</td>\n",
       "      <td>may</td>\n",
       "      <td>fri</td>\n",
       "      <td>...</td>\n",
       "      <td>2</td>\n",
       "      <td>999</td>\n",
       "      <td>0</td>\n",
       "      <td>nonexistent</td>\n",
       "      <td>-1.8</td>\n",
       "      <td>92.893</td>\n",
       "      <td>-46.2</td>\n",
       "      <td>1.313</td>\n",
       "      <td>5099.1</td>\n",
       "      <td>no</td>\n",
       "    </tr>\n",
       "    <tr>\n",
       "      <th>1</th>\n",
       "      <td>39</td>\n",
       "      <td>services</td>\n",
       "      <td>single</td>\n",
       "      <td>high.school</td>\n",
       "      <td>no</td>\n",
       "      <td>no</td>\n",
       "      <td>no</td>\n",
       "      <td>telephone</td>\n",
       "      <td>may</td>\n",
       "      <td>fri</td>\n",
       "      <td>...</td>\n",
       "      <td>4</td>\n",
       "      <td>999</td>\n",
       "      <td>0</td>\n",
       "      <td>nonexistent</td>\n",
       "      <td>1.1</td>\n",
       "      <td>93.994</td>\n",
       "      <td>-36.4</td>\n",
       "      <td>4.855</td>\n",
       "      <td>5191.0</td>\n",
       "      <td>no</td>\n",
       "    </tr>\n",
       "    <tr>\n",
       "      <th>2</th>\n",
       "      <td>25</td>\n",
       "      <td>services</td>\n",
       "      <td>married</td>\n",
       "      <td>high.school</td>\n",
       "      <td>no</td>\n",
       "      <td>yes</td>\n",
       "      <td>no</td>\n",
       "      <td>telephone</td>\n",
       "      <td>jun</td>\n",
       "      <td>wed</td>\n",
       "      <td>...</td>\n",
       "      <td>1</td>\n",
       "      <td>999</td>\n",
       "      <td>0</td>\n",
       "      <td>nonexistent</td>\n",
       "      <td>1.4</td>\n",
       "      <td>94.465</td>\n",
       "      <td>-41.8</td>\n",
       "      <td>4.962</td>\n",
       "      <td>5228.1</td>\n",
       "      <td>no</td>\n",
       "    </tr>\n",
       "    <tr>\n",
       "      <th>3</th>\n",
       "      <td>38</td>\n",
       "      <td>services</td>\n",
       "      <td>married</td>\n",
       "      <td>basic.9y</td>\n",
       "      <td>no</td>\n",
       "      <td>unknown</td>\n",
       "      <td>unknown</td>\n",
       "      <td>telephone</td>\n",
       "      <td>jun</td>\n",
       "      <td>fri</td>\n",
       "      <td>...</td>\n",
       "      <td>3</td>\n",
       "      <td>999</td>\n",
       "      <td>0</td>\n",
       "      <td>nonexistent</td>\n",
       "      <td>1.4</td>\n",
       "      <td>94.465</td>\n",
       "      <td>-41.8</td>\n",
       "      <td>4.959</td>\n",
       "      <td>5228.1</td>\n",
       "      <td>no</td>\n",
       "    </tr>\n",
       "    <tr>\n",
       "      <th>4</th>\n",
       "      <td>47</td>\n",
       "      <td>admin.</td>\n",
       "      <td>married</td>\n",
       "      <td>university.degree</td>\n",
       "      <td>no</td>\n",
       "      <td>yes</td>\n",
       "      <td>no</td>\n",
       "      <td>cellular</td>\n",
       "      <td>nov</td>\n",
       "      <td>mon</td>\n",
       "      <td>...</td>\n",
       "      <td>1</td>\n",
       "      <td>999</td>\n",
       "      <td>0</td>\n",
       "      <td>nonexistent</td>\n",
       "      <td>-0.1</td>\n",
       "      <td>93.200</td>\n",
       "      <td>-42.0</td>\n",
       "      <td>4.191</td>\n",
       "      <td>5195.8</td>\n",
       "      <td>no</td>\n",
       "    </tr>\n",
       "  </tbody>\n",
       "</table>\n",
       "<p>5 rows × 21 columns</p>\n",
       "</div>"
      ],
      "text/plain": [
       "   age          job  marital          education default  housing     loan  \\\n",
       "0   30  blue-collar  married           basic.9y      no      yes       no   \n",
       "1   39     services   single        high.school      no       no       no   \n",
       "2   25     services  married        high.school      no      yes       no   \n",
       "3   38     services  married           basic.9y      no  unknown  unknown   \n",
       "4   47       admin.  married  university.degree      no      yes       no   \n",
       "\n",
       "     contact month day_of_week  ...  campaign  pdays  previous     poutcome  \\\n",
       "0   cellular   may         fri  ...         2    999         0  nonexistent   \n",
       "1  telephone   may         fri  ...         4    999         0  nonexistent   \n",
       "2  telephone   jun         wed  ...         1    999         0  nonexistent   \n",
       "3  telephone   jun         fri  ...         3    999         0  nonexistent   \n",
       "4   cellular   nov         mon  ...         1    999         0  nonexistent   \n",
       "\n",
       "  emp.var.rate  cons.price.idx  cons.conf.idx  euribor3m  nr.employed   y  \n",
       "0         -1.8          92.893          -46.2      1.313       5099.1  no  \n",
       "1          1.1          93.994          -36.4      4.855       5191.0  no  \n",
       "2          1.4          94.465          -41.8      4.962       5228.1  no  \n",
       "3          1.4          94.465          -41.8      4.959       5228.1  no  \n",
       "4         -0.1          93.200          -42.0      4.191       5195.8  no  \n",
       "\n",
       "[5 rows x 21 columns]"
      ]
     },
     "execution_count": 10,
     "metadata": {},
     "output_type": "execute_result"
    }
   ],
   "source": [
    "data.head()"
   ]
  },
  {
   "cell_type": "code",
   "execution_count": 11,
   "id": "Mw78dHlqVMCn",
   "metadata": {
    "colab": {
     "base_uri": "https://localhost:8080/",
     "height": 300
    },
    "id": "Mw78dHlqVMCn",
    "outputId": "9c21177b-63bb-421e-879a-f1734edb5196"
   },
   "outputs": [
    {
     "data": {
      "text/html": [
       "<div>\n",
       "<style scoped>\n",
       "    .dataframe tbody tr th:only-of-type {\n",
       "        vertical-align: middle;\n",
       "    }\n",
       "\n",
       "    .dataframe tbody tr th {\n",
       "        vertical-align: top;\n",
       "    }\n",
       "\n",
       "    .dataframe thead th {\n",
       "        text-align: right;\n",
       "    }\n",
       "</style>\n",
       "<table border=\"1\" class=\"dataframe\">\n",
       "  <thead>\n",
       "    <tr style=\"text-align: right;\">\n",
       "      <th></th>\n",
       "      <th>age</th>\n",
       "      <th>duration</th>\n",
       "      <th>campaign</th>\n",
       "      <th>pdays</th>\n",
       "      <th>previous</th>\n",
       "      <th>emp.var.rate</th>\n",
       "      <th>cons.price.idx</th>\n",
       "      <th>cons.conf.idx</th>\n",
       "      <th>euribor3m</th>\n",
       "      <th>nr.employed</th>\n",
       "    </tr>\n",
       "  </thead>\n",
       "  <tbody>\n",
       "    <tr>\n",
       "      <th>count</th>\n",
       "      <td>4119.000000</td>\n",
       "      <td>4119.000000</td>\n",
       "      <td>4119.000000</td>\n",
       "      <td>4119.000000</td>\n",
       "      <td>4119.000000</td>\n",
       "      <td>4119.000000</td>\n",
       "      <td>4119.000000</td>\n",
       "      <td>4119.000000</td>\n",
       "      <td>4119.000000</td>\n",
       "      <td>4119.000000</td>\n",
       "    </tr>\n",
       "    <tr>\n",
       "      <th>mean</th>\n",
       "      <td>40.113620</td>\n",
       "      <td>256.788055</td>\n",
       "      <td>2.537266</td>\n",
       "      <td>960.422190</td>\n",
       "      <td>0.190337</td>\n",
       "      <td>0.084972</td>\n",
       "      <td>93.579704</td>\n",
       "      <td>-40.499102</td>\n",
       "      <td>3.621356</td>\n",
       "      <td>5166.481695</td>\n",
       "    </tr>\n",
       "    <tr>\n",
       "      <th>std</th>\n",
       "      <td>10.313362</td>\n",
       "      <td>254.703736</td>\n",
       "      <td>2.568159</td>\n",
       "      <td>191.922786</td>\n",
       "      <td>0.541788</td>\n",
       "      <td>1.563114</td>\n",
       "      <td>0.579349</td>\n",
       "      <td>4.594578</td>\n",
       "      <td>1.733591</td>\n",
       "      <td>73.667904</td>\n",
       "    </tr>\n",
       "    <tr>\n",
       "      <th>min</th>\n",
       "      <td>18.000000</td>\n",
       "      <td>0.000000</td>\n",
       "      <td>1.000000</td>\n",
       "      <td>0.000000</td>\n",
       "      <td>0.000000</td>\n",
       "      <td>-3.400000</td>\n",
       "      <td>92.201000</td>\n",
       "      <td>-50.800000</td>\n",
       "      <td>0.635000</td>\n",
       "      <td>4963.600000</td>\n",
       "    </tr>\n",
       "    <tr>\n",
       "      <th>25%</th>\n",
       "      <td>32.000000</td>\n",
       "      <td>103.000000</td>\n",
       "      <td>1.000000</td>\n",
       "      <td>999.000000</td>\n",
       "      <td>0.000000</td>\n",
       "      <td>-1.800000</td>\n",
       "      <td>93.075000</td>\n",
       "      <td>-42.700000</td>\n",
       "      <td>1.334000</td>\n",
       "      <td>5099.100000</td>\n",
       "    </tr>\n",
       "    <tr>\n",
       "      <th>50%</th>\n",
       "      <td>38.000000</td>\n",
       "      <td>181.000000</td>\n",
       "      <td>2.000000</td>\n",
       "      <td>999.000000</td>\n",
       "      <td>0.000000</td>\n",
       "      <td>1.100000</td>\n",
       "      <td>93.749000</td>\n",
       "      <td>-41.800000</td>\n",
       "      <td>4.857000</td>\n",
       "      <td>5191.000000</td>\n",
       "    </tr>\n",
       "    <tr>\n",
       "      <th>75%</th>\n",
       "      <td>47.000000</td>\n",
       "      <td>317.000000</td>\n",
       "      <td>3.000000</td>\n",
       "      <td>999.000000</td>\n",
       "      <td>0.000000</td>\n",
       "      <td>1.400000</td>\n",
       "      <td>93.994000</td>\n",
       "      <td>-36.400000</td>\n",
       "      <td>4.961000</td>\n",
       "      <td>5228.100000</td>\n",
       "    </tr>\n",
       "    <tr>\n",
       "      <th>max</th>\n",
       "      <td>88.000000</td>\n",
       "      <td>3643.000000</td>\n",
       "      <td>35.000000</td>\n",
       "      <td>999.000000</td>\n",
       "      <td>6.000000</td>\n",
       "      <td>1.400000</td>\n",
       "      <td>94.767000</td>\n",
       "      <td>-26.900000</td>\n",
       "      <td>5.045000</td>\n",
       "      <td>5228.100000</td>\n",
       "    </tr>\n",
       "  </tbody>\n",
       "</table>\n",
       "</div>"
      ],
      "text/plain": [
       "               age     duration     campaign        pdays     previous  \\\n",
       "count  4119.000000  4119.000000  4119.000000  4119.000000  4119.000000   \n",
       "mean     40.113620   256.788055     2.537266   960.422190     0.190337   \n",
       "std      10.313362   254.703736     2.568159   191.922786     0.541788   \n",
       "min      18.000000     0.000000     1.000000     0.000000     0.000000   \n",
       "25%      32.000000   103.000000     1.000000   999.000000     0.000000   \n",
       "50%      38.000000   181.000000     2.000000   999.000000     0.000000   \n",
       "75%      47.000000   317.000000     3.000000   999.000000     0.000000   \n",
       "max      88.000000  3643.000000    35.000000   999.000000     6.000000   \n",
       "\n",
       "       emp.var.rate  cons.price.idx  cons.conf.idx    euribor3m  nr.employed  \n",
       "count   4119.000000     4119.000000    4119.000000  4119.000000  4119.000000  \n",
       "mean       0.084972       93.579704     -40.499102     3.621356  5166.481695  \n",
       "std        1.563114        0.579349       4.594578     1.733591    73.667904  \n",
       "min       -3.400000       92.201000     -50.800000     0.635000  4963.600000  \n",
       "25%       -1.800000       93.075000     -42.700000     1.334000  5099.100000  \n",
       "50%        1.100000       93.749000     -41.800000     4.857000  5191.000000  \n",
       "75%        1.400000       93.994000     -36.400000     4.961000  5228.100000  \n",
       "max        1.400000       94.767000     -26.900000     5.045000  5228.100000  "
      ]
     },
     "execution_count": 11,
     "metadata": {},
     "output_type": "execute_result"
    }
   ],
   "source": [
    "data.describe()"
   ]
  },
  {
   "cell_type": "code",
   "execution_count": 12,
   "id": "KQejN220VQX_",
   "metadata": {
    "colab": {
     "base_uri": "https://localhost:8080/"
    },
    "id": "KQejN220VQX_",
    "outputId": "6fac4d9d-bd00-43b4-e1e9-d88cc43ba33a"
   },
   "outputs": [
    {
     "name": "stdout",
     "output_type": "stream",
     "text": [
      "<class 'pandas.core.frame.DataFrame'>\n",
      "RangeIndex: 4119 entries, 0 to 4118\n",
      "Data columns (total 21 columns):\n",
      " #   Column          Non-Null Count  Dtype  \n",
      "---  ------          --------------  -----  \n",
      " 0   age             4119 non-null   int64  \n",
      " 1   job             4119 non-null   object \n",
      " 2   marital         4119 non-null   object \n",
      " 3   education       4119 non-null   object \n",
      " 4   default         4119 non-null   object \n",
      " 5   housing         4119 non-null   object \n",
      " 6   loan            4119 non-null   object \n",
      " 7   contact         4119 non-null   object \n",
      " 8   month           4119 non-null   object \n",
      " 9   day_of_week     4119 non-null   object \n",
      " 10  duration        4119 non-null   int64  \n",
      " 11  campaign        4119 non-null   int64  \n",
      " 12  pdays           4119 non-null   int64  \n",
      " 13  previous        4119 non-null   int64  \n",
      " 14  poutcome        4119 non-null   object \n",
      " 15  emp.var.rate    4119 non-null   float64\n",
      " 16  cons.price.idx  4119 non-null   float64\n",
      " 17  cons.conf.idx   4119 non-null   float64\n",
      " 18  euribor3m       4119 non-null   float64\n",
      " 19  nr.employed     4119 non-null   float64\n",
      " 20  y               4119 non-null   object \n",
      "dtypes: float64(5), int64(5), object(11)\n",
      "memory usage: 675.9+ KB\n"
     ]
    }
   ],
   "source": [
    "data.info()"
   ]
  },
  {
   "cell_type": "code",
   "execution_count": 13,
   "id": "XCbULtkQVjRd",
   "metadata": {
    "colab": {
     "base_uri": "https://localhost:8080/"
    },
    "id": "XCbULtkQVjRd",
    "outputId": "79254ab4-5abe-4239-b942-c02ab66a8785"
   },
   "outputs": [
    {
     "data": {
      "text/plain": [
       "age                67\n",
       "job                12\n",
       "marital             4\n",
       "education           8\n",
       "default             3\n",
       "housing             3\n",
       "loan                3\n",
       "contact             2\n",
       "month              10\n",
       "day_of_week         5\n",
       "duration          828\n",
       "campaign           25\n",
       "pdays              21\n",
       "previous            7\n",
       "poutcome            3\n",
       "emp.var.rate       10\n",
       "cons.price.idx     26\n",
       "cons.conf.idx      26\n",
       "euribor3m         234\n",
       "nr.employed        11\n",
       "y                   2\n",
       "dtype: int64"
      ]
     },
     "execution_count": 13,
     "metadata": {},
     "output_type": "execute_result"
    }
   ],
   "source": [
    "data.apply(lambda x: len(x.unique())) # to calculate the number of unique values in each column of a DataFrame"
   ]
  },
  {
   "cell_type": "markdown",
   "id": "OdwzLLm8qziS",
   "metadata": {
    "id": "OdwzLLm8qziS"
   },
   "source": [
    "# 1) Data Cleaning\n",
    "\n",
    "\n",
    "\n",
    "\n"
   ]
  },
  {
   "cell_type": "code",
   "execution_count": 14,
   "id": "VRFk44PeWV9O",
   "metadata": {
    "colab": {
     "base_uri": "https://localhost:8080/"
    },
    "id": "VRFk44PeWV9O",
    "outputId": "5a9a30c8-519b-4c5f-a147-c0af63ddeeb6"
   },
   "outputs": [
    {
     "data": {
      "text/plain": [
       "age               0\n",
       "job               0\n",
       "marital           0\n",
       "education         0\n",
       "default           0\n",
       "housing           0\n",
       "loan              0\n",
       "contact           0\n",
       "month             0\n",
       "day_of_week       0\n",
       "duration          0\n",
       "campaign          0\n",
       "pdays             0\n",
       "previous          0\n",
       "poutcome          0\n",
       "emp.var.rate      0\n",
       "cons.price.idx    0\n",
       "cons.conf.idx     0\n",
       "euribor3m         0\n",
       "nr.employed       0\n",
       "y                 0\n",
       "dtype: int64"
      ]
     },
     "execution_count": 14,
     "metadata": {},
     "output_type": "execute_result"
    }
   ],
   "source": [
    "data.isnull().sum()"
   ]
  },
  {
   "cell_type": "markdown",
   "id": "ljV1yEyUWcs3",
   "metadata": {
    "id": "ljV1yEyUWcs3"
   },
   "source": [
    "The dataset is free from missing entries, thus making it unnecessary to implement any procedures for managing missing data."
   ]
  },
  {
   "cell_type": "code",
   "execution_count": 15,
   "id": "ZqJ8-7rLWanD",
   "metadata": {
    "colab": {
     "base_uri": "https://localhost:8080/"
    },
    "id": "ZqJ8-7rLWanD",
    "outputId": "5a98ed69-9f1e-4193-8c99-7f926c346932"
   },
   "outputs": [
    {
     "name": "stdout",
     "output_type": "stream",
     "text": [
      "Empty DataFrame\n",
      "Columns: [age, job, marital, education, default, housing, loan, contact, month, day_of_week, duration, campaign, pdays, previous, poutcome, emp.var.rate, cons.price.idx, cons.conf.idx, euribor3m, nr.employed, y]\n",
      "Index: []\n",
      "\n",
      "[0 rows x 21 columns]\n",
      "Number of Duplicated Rows 0\n"
     ]
    }
   ],
   "source": [
    "duplicated_data = data.duplicated()\n",
    "print(data[duplicated_data])\n",
    "\n",
    "duplicatedRows= sum(duplicated_data)\n",
    "print(\"Number of Duplicated Rows\", duplicatedRows)\n"
   ]
  },
  {
   "cell_type": "markdown",
   "id": "i7J67n5lXRzU",
   "metadata": {
    "id": "i7J67n5lXRzU"
   },
   "source": [
    "\n",
    "This dataset contains no duplicate entries, so there is no need to address duplication."
   ]
  },
  {
   "cell_type": "markdown",
   "id": "VrG6BNxZs3zO",
   "metadata": {
    "id": "VrG6BNxZs3zO"
   },
   "source": [
    "# 2) Data Preprocessing\n",
    "\n",
    "\n",
    "\n",
    "\n"
   ]
  },
  {
   "cell_type": "markdown",
   "id": "YgvzNKdqZNNC",
   "metadata": {
    "id": "YgvzNKdqZNNC"
   },
   "source": [
    "1\\. **Encoding Categorical Variables**\n",
    "\n",
    "Categorical data must be converted into numerical formats to be processed by machine learning algorithms. There are two common methods for encoding:\n",
    "\n",
    "*   **One-Hot Encoding:** This method converts each category value into a new binary column, which is suitable for nominal data without an intrinsic ordering.\n",
    "*   **Ordinal Encoding:** This method converts categories into integer codes based on their order, which is appropriate for ordinal data where the order matters."
   ]
  },
  {
   "cell_type": "markdown",
   "id": "0a0eb4c7",
   "metadata": {},
   "source": []
  },
  {
   "cell_type": "code",
   "execution_count": 16,
   "id": "c2b8317a",
   "metadata": {},
   "outputs": [],
   "source": [
    "month_categories = [\"jan\", \"feb\", \"mar\", \"apr\", \"may\", \"jun\", \"jul\", \"aug\", \"sep\", \"oct\", \"nov\", \"dec\"]\n",
    "day_categories = [\"mon\", \"tue\", \"wed\", \"thu\", \"fri\", \"sat\", \"sun\"]\n",
    "\n",
    "categorical_columns = [\"job\", \"marital\", \"default\", \"housing\", \"loan\", \"contact\", \"education\"]\n",
    "numerical_columns = ['age', \"duration\", 'campaign', 'pdays', 'previous', 'emp.var.rate', 'cons.price.idx', 'cons.conf.idx', 'euribor3m', 'nr.employed']\n",
    "\n",
    "# Define the preprocessing steps\n",
    "preprocess = ColumnTransformer([\n",
    "    (\"month_encoded\", OrdinalEncoder(categories=[month_categories]), ['month']),\n",
    "    (\"day_encoded\", OrdinalEncoder(categories=[day_categories]), ['day_of_week']),\n",
    "    ('one_hot_encoder', OneHotEncoder(handle_unknown='ignore'), categorical_columns),\n",
    "    (\"numeric_scaler\", StandardScaler(), numerical_columns) \n",
    "])\n"
   ]
  },
  {
   "cell_type": "code",
   "execution_count": null,
   "id": "e105f184",
   "metadata": {},
   "outputs": [],
   "source": []
  },
  {
   "cell_type": "code",
   "execution_count": 17,
   "id": "d4db7e91",
   "metadata": {},
   "outputs": [],
   "source": [
    "from sklearn.utils import resample\n",
    "from imblearn.under_sampling import RandomUnderSampler\n",
    "\n",
    "data_majority = data[data.y == 'no']  # or 0 if your target is binary encoded\n",
    "data_minority = data[data.y == 'yes']  # or 1 if your target is binary encoded\n",
    "\n",
    "# First, oversample the minority class to a less extent\n",
    "data_minority_oversampled = resample(data_minority, \n",
    "                                   replace=True,\n",
    "                                   n_samples=int(len(data_majority) * 0.5),  # Oversample to 50% of the majority class\n",
    "                                   random_state=123)\n",
    "\n",
    "data_majority_undersampled = resample(data_majority, \n",
    "                                   replace=True,\n",
    "                                   n_samples=int(len(data_majority) * 0.5),  # Undersample to 50% of the majority class\n",
    "                                   random_state=123)\n",
    "data_oversampled = pd.concat([data_majority_undersampled, data_minority_oversampled])"
   ]
  },
  {
   "cell_type": "markdown",
   "id": "10ca760b",
   "metadata": {},
   "source": [
    "# 3) Feature Selection\n",
    "We will set the attribute y as the target variable.\n",
    "Then, we will seperate some of our dataset to use it for training and some of it for testing. "
   ]
  },
  {
   "cell_type": "code",
   "execution_count": 18,
   "id": "1d2139aa",
   "metadata": {},
   "outputs": [],
   "source": [
    "X = data_oversampled.drop('y', axis=1)  \n",
    "y = data_oversampled['y']"
   ]
  },
  {
   "cell_type": "code",
   "execution_count": 19,
   "id": "a270fe78",
   "metadata": {},
   "outputs": [
    {
     "data": {
      "text/plain": [
       "no     1834\n",
       "yes    1834\n",
       "Name: y, dtype: int64"
      ]
     },
     "execution_count": 19,
     "metadata": {},
     "output_type": "execute_result"
    }
   ],
   "source": [
    "yes_count = y.value_counts()\n",
    "yes_count"
   ]
  },
  {
   "cell_type": "code",
   "execution_count": 20,
   "id": "1558eb94",
   "metadata": {},
   "outputs": [],
   "source": [
    "x_train,x_test,y_train,y_test= train_test_split(X,y,test_size=0.3,random_state=15)"
   ]
  },
  {
   "cell_type": "markdown",
   "id": "8c4c64e8",
   "metadata": {},
   "source": [
    "# 4) Model Training\n",
    "\n"
   ]
  },
  {
   "cell_type": "code",
   "execution_count": 21,
   "id": "df2466c7",
   "metadata": {},
   "outputs": [],
   "source": [
    "def makePipeline(preprocess, model):\n",
    "    feature_selection = SelectFromModel(model)\n",
    "    pipeline = make_pipeline(preprocess,feature_selection, model)\n",
    "    return pipeline\n"
   ]
  },
  {
   "cell_type": "code",
   "execution_count": 22,
   "id": "3a9f1ebd",
   "metadata": {},
   "outputs": [],
   "source": [
    "def trainmodel(preprocess, model, x_train, y_train, x_test, y_test):\n",
    "    \n",
    "    pipeline = makePipeline(preprocess, model)\n",
    "    pipeline.fit(x_train, y_train)\n",
    "    predictions = pipeline.predict (x_test)\n",
    "    \n",
    "    return accuracy_score(y_test, predictions), predictions"
   ]
  },
  {
   "cell_type": "code",
   "execution_count": 23,
   "id": "29562e8c",
   "metadata": {},
   "outputs": [],
   "source": [
    "def findbestmodel(preprocess, models, x_train, y_train, x_test, y_test):\n",
    "    model_and_recall = {}\n",
    "    for model in models:\n",
    "        _, predictions = trainmodel(preprocess, model, x_train, y_train, x_test, y_test)\n",
    "        recall = recall_score(y_test, predictions, pos_label=\"yes\")\n",
    "        model_and_recall[model] = recall\n",
    "\n",
    "    best_model = max(model_and_recall, key=model_and_recall.get)\n",
    "    best_recall = model_and_recall[best_model]\n",
    "\n",
    "    print(best_model)\n",
    "    print(best_recall)\n",
    "\n",
    "    return best_model"
   ]
  },
  {
   "cell_type": "code",
   "execution_count": 24,
   "id": "71ac914d",
   "metadata": {},
   "outputs": [
    {
     "name": "stdout",
     "output_type": "stream",
     "text": [
      "RandomForestClassifier()\n",
      "0.9908256880733946\n"
     ]
    }
   ],
   "source": [
    "models = [LogisticRegression(), DecisionTreeClassifier(), RandomForestClassifier()]\n",
    "bestmodel = findbestmodel(preprocess, models, x_train, y_train, x_test, y_test)"
   ]
  },
  {
   "cell_type": "code",
   "execution_count": 25,
   "id": "add6868e",
   "metadata": {},
   "outputs": [],
   "source": [
    "def findHyperparameters(model):\n",
    "    cv = StratifiedKFold(n_splits=10, random_state=0, shuffle=True)\n",
    "    pipeline = Pipeline(steps=[('preprocess', preprocess), ('model', model)])\n",
    "    \n",
    "    # Cross-validation to check initial performance\n",
    "    results_of_crossValidation = cross_validate(pipeline, X, y, cv=cv, return_train_score=True, return_estimator=True)\n",
    "    average_crossValidation_score = np.mean(results_of_crossValidation['test_score'])\n",
    "    \n",
    "    print(\"CV score: \", average_crossValidation_score)\n",
    "    \n",
    "    # Corrected parameter grid\n",
    "    param_grid = {\n",
    "       'model__n_estimators': [200, 300, 400],\n",
    "        'model__max_depth': [4, 6, 8, 10],\n",
    "        'model__min_samples_split': [5, 10, 15],\n",
    "    }\n",
    "    \n",
    "    # Use GridSearchCV for hyperparameter tuning\n",
    "    grid_search = GridSearchCV(estimator=pipeline, param_grid=param_grid, cv=cv, scoring='recall')\n",
    "    grid_search.fit(x_train, y_train)\n",
    "\n",
    "    best_params = grid_search.best_params_\n",
    "    best_model = grid_search.best_estimator_\n",
    "\n",
    "    # Make predictions on the test set\n",
    "    predictions = best_model.predict(x_test)\n",
    "    \n",
    "    # Calculate recall score\n",
    "    recall_yes = recall_score(y_test, predictions, pos_label=\"yes\")\n",
    "    \n",
    "    print(\"Best Hyperparameters:\", best_params)\n",
    "    print(\"Recall score:\", recall_yes)\n",
    "\n",
    "    return best_model, recall_yes\n"
   ]
  },
  {
   "cell_type": "code",
   "execution_count": 26,
   "id": "2784f7c5",
   "metadata": {
    "scrolled": true
   },
   "outputs": [
    {
     "name": "stdout",
     "output_type": "stream",
     "text": [
      "CV score:  0.9626554101338574\n",
      "Best Hyperparameters: {'model__max_depth': 4, 'model__min_samples_split': 5, 'model__n_estimators': 200}\n",
      "Recall score: 0.9027522935779817\n"
     ]
    }
   ],
   "source": [
    "tuned_best_model, tuned_precision= findHyperparameters(bestmodel)"
   ]
  },
  {
   "cell_type": "markdown",
   "id": "f618bd19",
   "metadata": {},
   "source": [
    "# 5) Evaluation\n"
   ]
  },
  {
   "cell_type": "code",
   "execution_count": 27,
   "id": "4bcb89d1",
   "metadata": {},
   "outputs": [],
   "source": [
    "pipeline = makePipeline(preprocess, bestmodel)\n",
    "predictions = tuned_best_model.predict(x_test)\n",
    "report=classification_report(y_test, predictions, target_names=['no', 'yes'])"
   ]
  },
  {
   "cell_type": "code",
   "execution_count": 28,
   "id": "fe76f799",
   "metadata": {},
   "outputs": [
    {
     "name": "stdout",
     "output_type": "stream",
     "text": [
      "              precision    recall  f1-score   support\n",
      "\n",
      "          no       0.90      0.86      0.88       556\n",
      "         yes       0.86      0.90      0.88       545\n",
      "\n",
      "    accuracy                           0.88      1101\n",
      "   macro avg       0.88      0.88      0.88      1101\n",
      "weighted avg       0.88      0.88      0.88      1101\n",
      "\n"
     ]
    }
   ],
   "source": [
    "print(report)"
   ]
  },
  {
   "cell_type": "markdown",
   "id": "36290540",
   "metadata": {},
   "source": [
    "# 6) Saving the best Model for Streamlit App "
   ]
  },
  {
   "cell_type": "code",
   "execution_count": 29,
   "id": "2163378b",
   "metadata": {},
   "outputs": [],
   "source": [
    "#pickle.dump(tuned_best_model, open('tuned_best_model.pkl', 'wb'))"
   ]
  },
  {
   "cell_type": "code",
   "execution_count": 30,
   "id": "5daa4f7d",
   "metadata": {},
   "outputs": [],
   "source": [
    "import joblib"
   ]
  },
  {
   "cell_type": "code",
   "execution_count": 31,
   "id": "cc236110",
   "metadata": {},
   "outputs": [
    {
     "data": {
      "text/plain": [
       "['trained_model.pkl']"
      ]
     },
     "execution_count": 31,
     "metadata": {},
     "output_type": "execute_result"
    }
   ],
   "source": [
    "joblib.dump(bestmodel,'trained_model.pkl')"
   ]
  }
 ],
 "metadata": {
  "colab": {
   "provenance": []
  },
  "kernelspec": {
   "display_name": "Python 3 (ipykernel)",
   "language": "python",
   "name": "python3"
  },
  "language_info": {
   "codemirror_mode": {
    "name": "ipython",
    "version": 3
   },
   "file_extension": ".py",
   "mimetype": "text/x-python",
   "name": "python",
   "nbconvert_exporter": "python",
   "pygments_lexer": "ipython3",
   "version": "3.9.13"
  }
 },
 "nbformat": 4,
 "nbformat_minor": 5
}
